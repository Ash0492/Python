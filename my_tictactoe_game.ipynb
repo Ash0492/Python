{
 "cells": [
  {
   "cell_type": "code",
   "execution_count": 67,
   "metadata": {},
   "outputs": [],
   "source": [
    "from IPython.display import clear_output\n",
    "\n",
    "def display_board(board):\n",
    "        print(\"  |   |   \")\n",
    "        print(board[7]+  \" |\" +\" \" +board[8]+ \" |\" + \" \"+ board[9])\n",
    "        print(\"  |   |  \")\n",
    "        print(\"---------------\")\n",
    "        print(\"  |   |   \")\n",
    "        print(board[4] + \" |\" +\" \" +board[5]+ \" |\" + \" \"+ board[6])\n",
    "        print(\"  |   |  \")\n",
    "        print(\"---------------\")\n",
    "        print(\"  |   |   \")\n",
    "        print(board[1]+ \" |\" +\" \" +board[2]+ \" |\" + \" \"+ board[3])\n",
    "        print(\"  |   |  \")\n",
    "        print(\"---------------\")\n",
    "        "
   ]
  },
  {
   "cell_type": "code",
   "execution_count": 65,
   "metadata": {},
   "outputs": [
    {
     "name": "stdout",
     "output_type": "stream",
     "text": [
      "  |   |   \n",
      "X | O | X\n",
      "  |   |  \n",
      "---------------\n",
      "  |   |   \n",
      "O | X | O\n",
      "  |   |  \n",
      "---------------\n",
      "  |   |   \n",
      "X | O | X\n",
      "  |   |  \n",
      "---------------\n"
     ]
    }
   ],
   "source": [
    "test_board = ['#','X','O','X','O','X','O','X','O','X']\n",
    "display_board(test_board)"
   ]
  },
  {
   "cell_type": "code",
   "execution_count": 75,
   "metadata": {},
   "outputs": [],
   "source": [
    "def player_input():\n",
    "    marker = ''\n",
    "    \n",
    "    while not (marker == 'X' or marker == 'O'):\n",
    "        marker = input('Player 1: Do you want to be X or O? ').upper()\n",
    "\n",
    "    if marker == 'X':\n",
    "        return ('X', 'O')\n",
    "    else:\n",
    "        return ('O', 'X')\n",
    "\n"
   ]
  },
  {
   "cell_type": "code",
   "execution_count": 76,
   "metadata": {},
   "outputs": [
    {
     "name": "stdout",
     "output_type": "stream",
     "text": [
      "Player 1: Do you want to be X or O? \n",
      "Player 1: Do you want to be X or O? x\n"
     ]
    },
    {
     "data": {
      "text/plain": [
       "('X', 'O')"
      ]
     },
     "execution_count": 76,
     "metadata": {},
     "output_type": "execute_result"
    }
   ],
   "source": [
    "player_input()"
   ]
  },
  {
   "cell_type": "code",
   "execution_count": 77,
   "metadata": {},
   "outputs": [],
   "source": [
    "def place_marker(board, marker, position):\n",
    "    board[position] = marker\n",
    "        "
   ]
  },
  {
   "cell_type": "code",
   "execution_count": 78,
   "metadata": {},
   "outputs": [
    {
     "name": "stdout",
     "output_type": "stream",
     "text": [
      "  |   |   \n",
      "X | $ | X\n",
      "  |   |  \n",
      "---------------\n",
      "  |   |   \n",
      "O | X | O\n",
      "  |   |  \n",
      "---------------\n",
      "  |   |   \n",
      "X | O | X\n",
      "  |   |  \n",
      "---------------\n"
     ]
    }
   ],
   "source": [
    "place_marker(test_board,'$', 8)\n",
    "display_board(test_board)"
   ]
  },
  {
   "cell_type": "code",
   "execution_count": 79,
   "metadata": {},
   "outputs": [],
   "source": [
    "def win_check(board, mark):\n",
    "    \n",
    "    return ((board[1] == mark and board[2] == mark and board[3] == mark)or\n",
    "            (board[4] == mark and board[5] == mark and board[6] == mark)or\n",
    "            (board[7] == mark and board[8] == mark and board[9] == mark)or \n",
    "            (board[1] == mark and board[5] == mark and board[9] == mark)or\n",
    "            (board[3] == mark and board[5] == mark and board[7] == mark)or\n",
    "            (board[7] == mark and board[4] == mark and board[1] == mark)or\n",
    "            (board[8] == mark and board[5] == mark and board[2] == mark)or\n",
    "            (board[9] == mark and board[6] == mark and board[3] == mark))"
   ]
  },
  {
   "cell_type": "code",
   "execution_count": 80,
   "metadata": {},
   "outputs": [
    {
     "data": {
      "text/plain": [
       "True"
      ]
     },
     "execution_count": 80,
     "metadata": {},
     "output_type": "execute_result"
    }
   ],
   "source": [
    "win_check(test_board, 'X')"
   ]
  },
  {
   "cell_type": "code",
   "execution_count": 81,
   "metadata": {},
   "outputs": [],
   "source": [
    "import random\n",
    "def choose_player():\n",
    "    if random.randint(0,1) == 0:\n",
    "        return 'player 2'\n",
    "    else:\n",
    "        return 'player 1'\n",
    "    "
   ]
  },
  {
   "cell_type": "code",
   "execution_count": 82,
   "metadata": {},
   "outputs": [],
   "source": [
    "def space_check(board,position):\n",
    "    return board[position] == ' '"
   ]
  },
  {
   "cell_type": "code",
   "execution_count": 83,
   "metadata": {},
   "outputs": [],
   "source": [
    "def full_board_space_check(board):\n",
    "    for i in range(1,10):\n",
    "        if space_check(board,i):\n",
    "            return False\n",
    "    return True"
   ]
  },
  {
   "cell_type": "code",
   "execution_count": 87,
   "metadata": {},
   "outputs": [],
   "source": [
    "def player_position(board):\n",
    "    position = 0\n",
    "    \n",
    "    while position not in [1,2,3,4,5,6,7,8,9] or not space_check(board,position):\n",
    "        return int(input(\"Please enter a position[1-9] : \"))"
   ]
  },
  {
   "cell_type": "code",
   "execution_count": 88,
   "metadata": {},
   "outputs": [],
   "source": [
    "def replay():\n",
    "    return input(\"Do you want to play again? Y or N: \")"
   ]
  },
  {
   "cell_type": "code",
   "execution_count": null,
   "metadata": {},
   "outputs": [
    {
     "name": "stdout",
     "output_type": "stream",
     "text": [
      "Welcome to TIC TAC TOE\n",
      "Player 1: Do you want to be X or O? x\n",
      "player 2will go first\n",
      "Are you ready? Y or Ny\n",
      "  |   |   \n",
      "  |   |  \n",
      "  |   |  \n",
      "---------------\n",
      "  |   |   \n",
      "  |   |  \n",
      "  |   |  \n",
      "---------------\n",
      "  |   |   \n",
      "  |   |  \n",
      "  |   |  \n",
      "---------------\n",
      "Please enter a position[1-9] : 8\n",
      "Do you want to play again? Y or N: y\n",
      "  |   |   \n",
      "  | O |  \n",
      "  |   |  \n",
      "---------------\n",
      "  |   |   \n",
      "  |   |  \n",
      "  |   |  \n",
      "---------------\n",
      "  |   |   \n",
      "  |   |  \n",
      "  |   |  \n",
      "---------------\n",
      "Please enter a position[1-9] : 1\n",
      "Do you want to play again? Y or N: y\n",
      "  |   |   \n",
      "  | O |  \n",
      "  |   |  \n",
      "---------------\n",
      "  |   |   \n",
      "  |   |  \n",
      "  |   |  \n",
      "---------------\n",
      "  |   |   \n",
      "X |   |  \n",
      "  |   |  \n",
      "---------------\n"
     ]
    }
   ],
   "source": [
    "print(\"Welcome to TIC TAC TOE\")\n",
    "\n",
    "while True:\n",
    "    theboard = [\" \"]*10\n",
    "    player1_marker, player2_marker = player_input()\n",
    "    first_player = choose_player()\n",
    "    print(first_player + \"will go first\")\n",
    "\n",
    "    play_game = input(\"Are you ready? Y or N\").lower()\n",
    "\n",
    "    if play_game == 'y':\n",
    "        game_on = True\n",
    "    else:\n",
    "        game_on = False\n",
    "    \n",
    "    while game_on:\n",
    "        \n",
    "        if first_player == 'player 1':\n",
    "            \n",
    "                display_board(theboard)\n",
    "                position = player_position(theboard) \n",
    "                place_marker(theboard,player1_marker,position)\n",
    "            \n",
    "                if win_check(theboard, player1_marker):\n",
    "                    display_board(theboard)\n",
    "                    print(\"Player 1 has won the game\")\n",
    "                    game_on = False\n",
    "                \n",
    "                else:\n",
    "                    if full_board_space_check(theboard):\n",
    "                        display_board(theboard) \n",
    "                        print(\"the game is draw\")\n",
    "                        break\n",
    "                    else:\n",
    "                        first_player = 'player 2'\n",
    "        else:\n",
    "                display_board(theboard)\n",
    "                position = player_position(theboard)\n",
    "                place_marker(theboard,player2_marker,position)\n",
    "            \n",
    "            \n",
    "        if win_check(theboard, player1_marker):\n",
    "                    display_board(theboard)\n",
    "                    print(\"Player 2 has won the game\")\n",
    "                    game_on = False\n",
    "                \n",
    "        else:\n",
    "                    if full_board_space_check(theboard):\n",
    "                        display_board(theboard)\n",
    "                        print(\"the game is draw\")\n",
    "                        break\n",
    "                    else:\n",
    "                        first_player = \"player 1\"\n",
    "                        \n",
    "        if not replay():\n",
    "            break"
   ]
  },
  {
   "cell_type": "code",
   "execution_count": null,
   "metadata": {},
   "outputs": [],
   "source": []
  },
  {
   "cell_type": "code",
   "execution_count": null,
   "metadata": {},
   "outputs": [],
   "source": []
  }
 ],
 "metadata": {
  "kernelspec": {
   "display_name": "Python 3",
   "language": "python",
   "name": "python3"
  },
  "language_info": {
   "codemirror_mode": {
    "name": "ipython",
    "version": 3
   },
   "file_extension": ".py",
   "mimetype": "text/x-python",
   "name": "python",
   "nbconvert_exporter": "python",
   "pygments_lexer": "ipython3",
   "version": "3.7.4"
  }
 },
 "nbformat": 4,
 "nbformat_minor": 2
}
