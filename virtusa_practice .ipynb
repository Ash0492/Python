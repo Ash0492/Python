{
 "cells": [
  {
   "cell_type": "code",
   "execution_count": null,
   "metadata": {},
   "outputs": [],
   "source": [
    "from functools import cmp_to_key\n",
    "class Player:\n",
    "    def __init__(self, name, score):\n",
    "        self.name = name\n",
    "        self.score = score\n",
    "    def __repr__(self):\n",
    "        \n",
    "    def comparator(a, b):\n",
    "\n",
    "n = int(input())\n",
    "data = []\n",
    "for i in range(n):\n",
    "    name, score = input().split()\n",
    "    score = int(score)\n",
    "    player = Player(name, score)\n",
    "    data.append(player)\n",
    "    \n",
    "data = sorted(data, key=cmp_to_key(Player.comparator))\n",
    "for i in data:\n",
    "    print(i.name, i.score)"
   ]
  },
  {
   "cell_type": "code",
   "execution_count": 12,
   "metadata": {},
   "outputs": [
    {
     "name": "stdout",
     "output_type": "stream",
     "text": [
      "5 2\n",
      "1 5 3 4 2\n",
      "3\n"
     ]
    }
   ],
   "source": [
    "#!/bin/python3\n",
    "\n",
    "import math\n",
    "import os\n",
    "import random\n",
    "import re\n",
    "import sys\n",
    "\n",
    "# Complete the pairs function below.\n",
    "def pairs(k, arr):\n",
    "    count = 0\n",
    "    arr.sort()\n",
    "    n = len(arr)\n",
    "    for i in range(n):\n",
    "        for j in range(n):\n",
    "            if arr[i] > arr[j] and arr[i] - arr[j] == k:\n",
    "                count = count+1\n",
    "    return count\n",
    "    \n",
    "    \n",
    "if __name__ == '__main__':\n",
    "\n",
    "    nk = input().split()\n",
    "\n",
    "    n = int(nk[0])\n",
    "\n",
    "    k = int(nk[1])\n",
    "\n",
    "    arr = list(map(int, input().rstrip().split()))\n",
    "\n",
    "    result = pairs(k, arr)\n",
    "    \n",
    "    print(result)\n",
    "\n",
    "    \n",
    "\n",
    "    \n"
   ]
  },
  {
   "cell_type": "code",
   "execution_count": 16,
   "metadata": {},
   "outputs": [
    {
     "name": "stdout",
     "output_type": "stream",
     "text": [
      "5 2\n",
      "1 5 3 4 2\n",
      "3\n"
     ]
    }
   ],
   "source": [
    "# Complete the pairs function below.\n",
    "def pairs(k, arr):\n",
    "    count = 0\n",
    "    arr= set(arr)\n",
    "    for i in arr:\n",
    "        if i + k in arr:\n",
    "            count = count+1\n",
    "    return count\n",
    "    \n",
    "    \n",
    "if __name__ == '__main__':\n",
    "\n",
    "    nk = input().split()\n",
    "\n",
    "    n = int(nk[0])\n",
    "\n",
    "    k = int(nk[1])\n",
    "\n",
    "    arr = list(map(int, input().rstrip().split()))\n",
    "\n",
    "    result = pairs(k, arr)\n",
    "    \n",
    "    print(result)"
   ]
  },
  {
   "cell_type": "code",
   "execution_count": 9,
   "metadata": {},
   "outputs": [
    {
     "name": "stdout",
     "output_type": "stream",
     "text": [
      "6 3\n",
      "1 3 9 9 27 81\n",
      "6\n"
     ]
    }
   ],
   "source": [
    "#!/bin/python3\n",
    "from collections import Counter\n",
    "import math\n",
    "import os\n",
    "import random\n",
    "import re\n",
    "import sys\n",
    "\n",
    "# Complete the countTriplets function below.\n",
    "def countTriplets(arr, r):\n",
    "        cnt = 0\n",
    "        tmp = Counter(arr)\n",
    "\n",
    "        if r == 1:\n",
    "            for key in tmp:\n",
    "                n = tmp[key]\n",
    "                cnt += int(n * (n-1) * (n-2) / 6)\n",
    "        else:\n",
    "            for key in tmp:\n",
    "                cnt += tmp[key] * tmp[key*r] * tmp[key*r*r]\n",
    "        return cnt\n",
    "\n",
    "\n",
    "if __name__ == '__main__':\n",
    "    \n",
    "\n",
    "    nr = input().rstrip().split()\n",
    "\n",
    "    n = int(nr[0])\n",
    "\n",
    "    r = int(nr[1])\n",
    "\n",
    "    arr = list(map(int, input().rstrip().split()))\n",
    "\n",
    "    ans = countTriplets(arr, r)\n",
    "\n",
    "    print(str(ans))\n",
    "\n",
    "    \n"
   ]
  },
  {
   "cell_type": "code",
   "execution_count": 8,
   "metadata": {},
   "outputs": [
    {
     "name": "stdout",
     "output_type": "stream",
     "text": [
      "0\n",
      "1\n",
      "2\n"
     ]
    }
   ],
   "source": [
    "l = [1,4,16,64]\n",
    "for i in range(0,len(l)-1):\n",
    "    if l[i]*4 == l[i+1]:\n",
    "        print(i)"
   ]
  },
  {
   "cell_type": "code",
   "execution_count": 10,
   "metadata": {},
   "outputs": [
    {
     "name": "stdout",
     "output_type": "stream",
     "text": [
      "Counter({1: 4, 3: 4, 4: 4, 2: 3, 5: 3, 6: 3, 9: 3, 7: 2, 8: 2})\n"
     ]
    }
   ],
   "source": [
    "from collections import Counter\n",
    "a = [1,2,2,2,1,1,1,3,3,3,4,4,4,5,5,6,6,7,8,9,9,9,8,7,6,5,4,3]\n",
    "print(Counter(a))"
   ]
  },
  {
   "cell_type": "code",
   "execution_count": null,
   "metadata": {},
   "outputs": [],
   "source": []
  }
 ],
 "metadata": {
  "kernelspec": {
   "display_name": "Python 3",
   "language": "python",
   "name": "python3"
  },
  "language_info": {
   "codemirror_mode": {
    "name": "ipython",
    "version": 3
   },
   "file_extension": ".py",
   "mimetype": "text/x-python",
   "name": "python",
   "nbconvert_exporter": "python",
   "pygments_lexer": "ipython3",
   "version": "3.7.4"
  }
 },
 "nbformat": 4,
 "nbformat_minor": 2
}
